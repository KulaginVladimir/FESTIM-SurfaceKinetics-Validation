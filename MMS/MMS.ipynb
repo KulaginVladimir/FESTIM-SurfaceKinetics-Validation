{
 "cells": [
  {
   "cell_type": "markdown",
   "metadata": {},
   "source": [
    "This MMS case verifies the implementation of the Surface Kinetics boundary condition in FESTIM. We will consider a time-dependent case of hydrogen diffusion in a unit interval domain $\\Omega$ with a homogeneous diffusion coefficient $D$, and a Dirichlet boundary condition on the rear domain side."
   ]
  },
  {
   "cell_type": "markdown",
   "metadata": {},
   "source": [
    "The diffusion problem is:\n",
    "$$ \n",
    "\\begin{align}\n",
    "    &\\dfrac{\\partial c_\\mathrm{m}}{\\partial t} = \\nabla\\cdot\\left(D\\nabla c_\\mathrm{m} \\right) + S \\quad \\textrm{ on } \\Omega, \\\\\n",
    "    &-D \\nabla c_\\mathrm{m} \\cdot \\mathbf{n} = \\lambda_{\\mathrm{IS}} \\dfrac{\\partial c_{\\mathrm{m}}}{\\partial t} + J_{\\mathrm{bs}} - J_{\\mathrm{sb}} \\quad \\textrm{ at } x=0, \\\\\n",
    "    &c_\\mathrm{m} = c_\\mathrm{0,m} \\quad \\textrm{ at } x=1, \\\\\n",
    "    &c_\\mathrm{m} = c_\\mathrm{0,m} \\quad \\textrm{ at } t=0, \\\\\n",
    "\\end{align}\n",
    "$$\n",
    "\n",
    "Evolution of surface concentration is governed by:\n",
    "$$ \n",
    "\\begin{align}\n",
    "    &\\dfrac{d c_\\mathrm{s}}{d t} = J_{\\mathrm{bs}} - J_{\\mathrm{sb}} + J_{\\mathrm{vs}}  \\quad \\textrm{ at } x=0 \\\\\n",
    "    &c_\\mathrm{s}= c_\\mathrm{0,s}\\quad \\textrm{ at } t=0, \\\\\n",
    "\\end{align}\n",
    "$$"
   ]
  }
 ],
 "metadata": {
  "language_info": {
   "name": "python"
  }
 },
 "nbformat": 4,
 "nbformat_minor": 2
}
